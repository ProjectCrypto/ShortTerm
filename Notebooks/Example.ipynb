{
 "cells": [
  {
   "cell_type": "markdown",
   "metadata": {},
   "source": [
    "# Example Jupyter Use"
   ]
  },
  {
   "cell_type": "code",
   "execution_count": 19,
   "metadata": {
    "collapsed": false
   },
   "outputs": [],
   "source": [
    "import os\n",
    "import pandas as pd\n",
    "import numpy as np\n",
    "import sqlite3\n",
    "\n",
    "from matplotlib import pyplot as plt\n",
    "plt.style.use('seaborn-dark-palette')\n",
    "\n",
    "%matplotlib inline\n",
    "\n",
    "# Define root of our App, Caveat, don't name other folders `Notebooks`\n",
    "root = os.getcwd().split('Notebooks')[0]"
   ]
  },
  {
   "cell_type": "markdown",
   "metadata": {},
   "source": [
    "## Connecting to our database"
   ]
  },
  {
   "cell_type": "code",
   "execution_count": 12,
   "metadata": {
    "collapsed": false
   },
   "outputs": [
    {
     "name": "stdout",
     "output_type": "stream",
     "text": [
      "Connected to database.\n"
     ]
    }
   ],
   "source": [
    "# Database location\n",
    "database = os.path.join(root,'Sqlite3.db')\n",
    "\n",
    "# Create a connection\n",
    "conn = sqlite3.connect(database)\n",
    "\n",
    "# Close a connection\n",
    "conn.close()\n",
    "\n",
    "# Preferred way, with context manager\n",
    "with sqlite3.connect(database) as connection:\n",
    "    print 'Connected to database.'"
   ]
  },
  {
   "cell_type": "markdown",
   "metadata": {},
   "source": [
    "## Handling data in database"
   ]
  },
  {
   "cell_type": "code",
   "execution_count": 13,
   "metadata": {
    "collapsed": false
   },
   "outputs": [
    {
     "data": {
      "text/html": [
       "<div>\n",
       "<table border=\"1\" class=\"dataframe\">\n",
       "  <thead>\n",
       "    <tr style=\"text-align: right;\">\n",
       "      <th></th>\n",
       "      <th>id</th>\n",
       "      <th>Price</th>\n",
       "      <th>Site</th>\n",
       "      <th>Date</th>\n",
       "      <th>Type</th>\n",
       "      <th>Unit</th>\n",
       "    </tr>\n",
       "  </thead>\n",
       "  <tbody>\n",
       "    <tr>\n",
       "      <th>0</th>\n",
       "      <td>1</td>\n",
       "      <td>0.09</td>\n",
       "      <td>CoinDesk</td>\n",
       "      <td>2010-07-17</td>\n",
       "      <td>Bitcoin</td>\n",
       "      <td>USD</td>\n",
       "    </tr>\n",
       "    <tr>\n",
       "      <th>1</th>\n",
       "      <td>2</td>\n",
       "      <td>0.08</td>\n",
       "      <td>CoinDesk</td>\n",
       "      <td>2010-07-18</td>\n",
       "      <td>Bitcoin</td>\n",
       "      <td>USD</td>\n",
       "    </tr>\n",
       "    <tr>\n",
       "      <th>2</th>\n",
       "      <td>3</td>\n",
       "      <td>0.07</td>\n",
       "      <td>CoinDesk</td>\n",
       "      <td>2010-07-19</td>\n",
       "      <td>Bitcoin</td>\n",
       "      <td>USD</td>\n",
       "    </tr>\n",
       "    <tr>\n",
       "      <th>3</th>\n",
       "      <td>4</td>\n",
       "      <td>0.08</td>\n",
       "      <td>CoinDesk</td>\n",
       "      <td>2010-07-20</td>\n",
       "      <td>Bitcoin</td>\n",
       "      <td>USD</td>\n",
       "    </tr>\n",
       "    <tr>\n",
       "      <th>4</th>\n",
       "      <td>5</td>\n",
       "      <td>0.05</td>\n",
       "      <td>CoinDesk</td>\n",
       "      <td>2010-07-21</td>\n",
       "      <td>Bitcoin</td>\n",
       "      <td>USD</td>\n",
       "    </tr>\n",
       "    <tr>\n",
       "      <th>5</th>\n",
       "      <td>6</td>\n",
       "      <td>0.06</td>\n",
       "      <td>CoinDesk</td>\n",
       "      <td>2010-07-22</td>\n",
       "      <td>Bitcoin</td>\n",
       "      <td>USD</td>\n",
       "    </tr>\n",
       "    <tr>\n",
       "      <th>6</th>\n",
       "      <td>7</td>\n",
       "      <td>0.05</td>\n",
       "      <td>CoinDesk</td>\n",
       "      <td>2010-07-23</td>\n",
       "      <td>Bitcoin</td>\n",
       "      <td>USD</td>\n",
       "    </tr>\n",
       "    <tr>\n",
       "      <th>7</th>\n",
       "      <td>8</td>\n",
       "      <td>0.05</td>\n",
       "      <td>CoinDesk</td>\n",
       "      <td>2010-07-24</td>\n",
       "      <td>Bitcoin</td>\n",
       "      <td>USD</td>\n",
       "    </tr>\n",
       "    <tr>\n",
       "      <th>8</th>\n",
       "      <td>9</td>\n",
       "      <td>0.06</td>\n",
       "      <td>CoinDesk</td>\n",
       "      <td>2010-07-25</td>\n",
       "      <td>Bitcoin</td>\n",
       "      <td>USD</td>\n",
       "    </tr>\n",
       "    <tr>\n",
       "      <th>9</th>\n",
       "      <td>10</td>\n",
       "      <td>0.06</td>\n",
       "      <td>CoinDesk</td>\n",
       "      <td>2010-07-26</td>\n",
       "      <td>Bitcoin</td>\n",
       "      <td>USD</td>\n",
       "    </tr>\n",
       "  </tbody>\n",
       "</table>\n",
       "</div>"
      ],
      "text/plain": [
       "   id  Price      Site        Date     Type Unit\n",
       "0   1   0.09  CoinDesk  2010-07-17  Bitcoin  USD\n",
       "1   2   0.08  CoinDesk  2010-07-18  Bitcoin  USD\n",
       "2   3   0.07  CoinDesk  2010-07-19  Bitcoin  USD\n",
       "3   4   0.08  CoinDesk  2010-07-20  Bitcoin  USD\n",
       "4   5   0.05  CoinDesk  2010-07-21  Bitcoin  USD\n",
       "5   6   0.06  CoinDesk  2010-07-22  Bitcoin  USD\n",
       "6   7   0.05  CoinDesk  2010-07-23  Bitcoin  USD\n",
       "7   8   0.05  CoinDesk  2010-07-24  Bitcoin  USD\n",
       "8   9   0.06  CoinDesk  2010-07-25  Bitcoin  USD\n",
       "9  10   0.06  CoinDesk  2010-07-26  Bitcoin  USD"
      ]
     },
     "execution_count": 13,
     "metadata": {},
     "output_type": "execute_result"
    }
   ],
   "source": [
    "# Best using Pandas\n",
    "with sqlite3.connect(database) as connection:\n",
    "    # View tables in database\n",
    "    query  = \"SELECT name FROM sqlite_master WHERE type = 'table'\"\n",
    "    tables = pd.read_sql(query, con = connection)\n",
    "    \n",
    "    # Define a query\n",
    "    query = \"SELECT * FROM PriceHistory\"\n",
    "    data  = pd.read_sql(query, con = connection)\n",
    "    \n",
    "# View first few records\n",
    "data.head(10)"
   ]
  },
  {
   "cell_type": "markdown",
   "metadata": {},
   "source": [
    "## Now enjoy your analysis!"
   ]
  },
  {
   "cell_type": "code",
   "execution_count": 21,
   "metadata": {
    "collapsed": false,
    "scrolled": false
   },
   "outputs": [
    {
     "data": {
      "image/png": "[encoded data removed]",
      "text/plain": [
       "<matplotlib.figure.Figure at 0x112fd5810>"
      ]
     },
     "metadata": {},
     "output_type": "display_data"
    }
   ],
   "source": [
    "fig, ax = plt.subplots(figsize=(12,8))\n",
    "x = pd.to_datetime(data['Date'])\n",
    "y = data['Price']\n",
    "ax.plot(x,y, label='Bitcoin')\n",
    "ax.set_title('Exchange Rate in Time')\n",
    "ax.set_xlabel('Date')\n",
    "ax.set_ylabel('Price')\n",
    "ax.legend(loc='best',fancybox=True, shadow=True)\n",
    "plt.show()"
   ]
  }
 ],
 "metadata": {
  "kernelspec": {
   "display_name": "Python 2",
   "language": "python",
   "name": "python2"
  },
  "language_info": {
   "codemirror_mode": {
    "name": "ipython",
    "version": 2
   },
   "file_extension": ".py",
   "mimetype": "text/x-python",
   "name": "python",
   "nbconvert_exporter": "python",
   "pygments_lexer": "ipython2",
   "version": "2.7.13"
  }
 },
 "nbformat": 4,
 "nbformat_minor": 2
}
