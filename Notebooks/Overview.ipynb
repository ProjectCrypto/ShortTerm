{
 "cells": [
  {
   "cell_type": "markdown",
   "metadata": {},
   "source": [
    "# Crypto Currency Analysis\n",
    "![](images/bitcoin.jpg)\n",
    "\n",
    "<hr>\n",
    "## Contents\n",
    "- [**Introduction**](#Introduction)\n",
    "- [**Requirements**](#Requirements)\n",
    "- [**Design**](#Design)\n",
    "- [**How To**](#How-To)\n",
    "- [**Analysis**](#Analysis)"
   ]
  },
  {
   "cell_type": "markdown",
   "metadata": {},
   "source": [
    "## Introduction"
   ]
  },
  {
   "cell_type": "markdown",
   "metadata": {},
   "source": [
    "- Crypto Currency\n",
    "    - Types\n",
    "    - Definitions\n",
    "- "
   ]
  },
  {
   "cell_type": "markdown",
   "metadata": {},
   "source": [
    "## Requirements"
   ]
  },
  {
   "cell_type": "markdown",
   "metadata": {},
   "source": [
    "1) Download nltk\n",
    "    - import nltk; nltk.download()"
   ]
  },
  {
   "cell_type": "markdown",
   "metadata": {},
   "source": [
    "## Design"
   ]
  },
  {
   "cell_type": "markdown",
   "metadata": {},
   "source": [
    "Gathers data from multiple resources and then stores to database waiting to be used for analysis. Then runs through analysis.\n",
    "\n",
    "- updateDb.py\n",
    "    - Runs through `Sites` to gather data from resources and then stores into a Sqlite database\n",
    "    \n",
    "- run.py\n",
    "    - Runs through `Analysis` to execute analysis modules.\n",
    "    - Will run `updateDb.py` if told or `Sqlite3.db` does not exist.\n",
    "- Sites\n",
    "    - All modules that will uniquely difine SQL table and execute webscraping.\n",
    "- Analysis\n",
    "    - All modules that were build for analysis. \n",
    "- Utilities \n",
    "    - Used for helper tools to mitigate tasks.\n",
    "- Notebooks\n",
    "    - Used for quick analysis using Ipython Notebook (Jupyter Notebooks).\n"
   ]
  },
  {
   "cell_type": "markdown",
   "metadata": {},
   "source": [
    "## How To"
   ]
  },
  {
   "cell_type": "markdown",
   "metadata": {},
   "source": [
    "- Running updateDb.py\n",
    "    - `./updateDb.py`  Will update data in database.\n",
    "    \n",
    "- Running run.py\n",
    "    - `./run.py`  Will run all analysis.\n",
    "    - (Optional) `-o /path/to/output`\n",
    "    - (Optional) `-u` or `--update`"
   ]
  },
  {
   "cell_type": "markdown",
   "metadata": {},
   "source": [
    "## Analysis"
   ]
  },
  {
   "cell_type": "markdown",
   "metadata": {},
   "source": []
  },
  {
   "cell_type": "code",
   "execution_count": 1,
   "metadata": {
    "collapsed": false
   },
   "outputs": [
    {
     "name": "stdout",
     "output_type": "stream",
     "text": [
      "showing info https://raw.githubusercontent.com/nltk/nltk_data/gh-pages/index.xml\n"
     ]
    },
    {
     "data": {
      "text/plain": [
       "True"
      ]
     },
     "execution_count": 1,
     "metadata": {},
     "output_type": "execute_result"
    }
   ],
   "source": [
    "import nltk\n",
    "nltk.download()"
   ]
  },
  {
   "cell_type": "code",
   "execution_count": null,
   "metadata": {
    "collapsed": true
   },
   "outputs": [],
   "source": []
  }
 ],
 "metadata": {
  "kernelspec": {
   "display_name": "Python 2",
   "language": "python",
   "name": "python2"
  },
  "language_info": {
   "codemirror_mode": {
    "name": "ipython",
    "version": 2
   },
   "file_extension": ".py",
   "mimetype": "text/x-python",
   "name": "python",
   "nbconvert_exporter": "python",
   "pygments_lexer": "ipython2",
   "version": "2.7.13"
  }
 },
 "nbformat": 4,
 "nbformat_minor": 2
}
